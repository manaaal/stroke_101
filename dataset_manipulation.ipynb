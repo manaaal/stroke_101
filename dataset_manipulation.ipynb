{
  "nbformat": 4,
  "nbformat_minor": 0,
  "metadata": {
    "colab": {
      "provenance": [],
      "authorship_tag": "ABX9TyOVWUiH/AJ7l85aXV+MDsY9",
      "include_colab_link": true
    },
    "kernelspec": {
      "name": "python3",
      "display_name": "Python 3"
    },
    "language_info": {
      "name": "python"
    }
  },
  "cells": [
    {
      "cell_type": "markdown",
      "metadata": {
        "id": "view-in-github",
        "colab_type": "text"
      },
      "source": [
        "<a href=\"https://colab.research.google.com/github/manaaal/stroke_101/blob/main/ISLES_clean.ipynb\" target=\"_parent\"><img src=\"https://colab.research.google.com/assets/colab-badge.svg\" alt=\"Open In Colab\"/></a>"
      ]
    },
    {
      "cell_type": "code",
      "execution_count": null,
      "metadata": {
        "id": "qz0HavTGMkvY"
      },
      "outputs": [],
      "source": [
        "from google.colab import drive\n",
        "drive.mount('/content/drive')"
      ]
    },
    {
      "cell_type": "code",
      "source": [
        "import os\n",
        "os.getcwd()\n",
        "os.chdir('/content/drive/MyDrive/ISLES_folder')"
      ],
      "metadata": {
        "id": "V1gd1r1lMqNe"
      },
      "execution_count": null,
      "outputs": []
    },
    {
      "cell_type": "code",
      "source": [
        "!pip install connected-components-3d"
      ],
      "metadata": {
        "id": "NB0JaxX6MrFE"
      },
      "execution_count": null,
      "outputs": []
    },
    {
      "cell_type": "code",
      "source": [
        "# imports.\n",
        "import nibabel as nib\n",
        "import numpy as np\n",
        "import os\n",
        "from matplotlib import pyplot as plt\n",
        "import eval_utils\n",
        "import cv2\n",
        "import matplotlib\n",
        "from PIL import Image, ImageStat\n",
        "import shutil"
      ],
      "metadata": {
        "id": "Pp87JU8DMrBl"
      },
      "execution_count": null,
      "outputs": []
    },
    {
      "cell_type": "code",
      "source": [
        "#count_dir = len(next(os.walk('/content/drive/MyDrive/ISLES/dataset-ISLES22^public^unzipped^version/rawdata'))[1])\n",
        "#for j in range(1,int(count_dir)+1):"
      ],
      "metadata": {
        "id": "udRWM3jOMq-8"
      },
      "execution_count": null,
      "outputs": []
    },
    {
      "cell_type": "markdown",
      "source": [
        "extract dwi & mask into different folders"
      ],
      "metadata": {
        "id": "UpSFIw2krHD3"
      }
    },
    {
      "cell_type": "code",
      "source": [
        "#extract dwi & mask in different folders\n",
        "isles_data_dir = '/content/drive/MyDrive/ISLES'\n",
        "dwi_folder = '/content/drive/MyDrive/ISLES_folder/dwi_sliced'\n",
        "mask_folder = '/content/drive/MyDrive/ISLES_folder/mask_sliced'\n",
        "\n",
        "# Dwi folder:\n",
        "if not os.path.exists(dwi_folder):\n",
        "    os.makedirs(dwi_folder)\n",
        "os.chdir(dwi_folder)\n",
        "for i in range(1,251):\n",
        "  dwi_path = os.path.join(isles_data_dir,'dataset-ISLES22^public^unzipped^version', 'rawdata', 'sub-strokecase{}'.format(\"%04d\" %i), 'ses-0001',\n",
        "                    'sub-strokecase{}_ses-0001_dwi.nii.gz'.format(\"%04d\" % i))\n",
        "   \n",
        "  dwi_img = nib.load(dwi_path).get_fdata() \n",
        "  scanArrayShape = dwi_img.shape\n",
        "  for j in range(scanArrayShape[2]):\n",
        "    plt.ioff()\n",
        "    fig = plt.figure()\n",
        "    im = plt.imshow(dwi_img[:,:,j], cmap='gray')\n",
        "    plt.axis('off')\n",
        "    plt.savefig(dwi_folder+'/Dwi' + str(i) +'_Slice'+str(j)+'.jpg', bbox_inches='tight',pad_inches = 0)\n",
        "    plt.close(fig)\n",
        "\n",
        "# Mask folder:\n",
        "if not os.path.exists(mask_folder):\n",
        "    os.makedirs(mask_folder)\n",
        "os.chdir(mask_folder)\n",
        "for i in range(1,251):\n",
        "  mask_path = os.path.join(isles_data_dir,'dataset-ISLES22^public^unzipped^version', 'derivatives', 'sub-strokecase{}'.format(\"%04d\" %i), 'ses-0001',\n",
        "                    'sub-strokecase{}_ses-0001_msk.nii.gz'.format(\"%04d\" % i))\n",
        "   \n",
        "  mask_img = nib.load(mask_path).get_fdata() \n",
        "  scanArrayShape = mask_img.shape\n",
        "  for j in range(scanArrayShape[2]):\n",
        "    plt.ioff()\n",
        "    fig = plt.figure()\n",
        "    im = plt.imshow(mask_img[:,:,j], cmap='gray')\n",
        "    plt.axis('off')\n",
        "    plt.savefig(mask_folder+'/Mask'+ str(i) +'_Slice'+str(j)+'.jpg', bbox_inches='tight',pad_inches = 0)\n",
        "    plt.close(fig)"
      ],
      "metadata": {
        "id": "ge7Bp2EYMq8v"
      },
      "execution_count": null,
      "outputs": []
    },
    {
      "cell_type": "markdown",
      "source": [
        "split the data"
      ],
      "metadata": {
        "id": "Tik4Y9qkq-w4"
      }
    },
    {
      "cell_type": "code",
      "source": [
        "import random\n",
        "filenames = []\n",
        "for i in range(1,251):\n",
        "  dwi_path = os.path.join('/content','drive','MyDrive','ISLES_folder','dwi','Dwi_Slice{}.jpg'.format(i))\n",
        "  filenames.append(dwi_path)\n",
        "filenames.sort()  # make sure that the filenames have a fixed order before shuffling\n",
        "random.seed(230)\n",
        "random.shuffle(filenames) # shuffles the ordering of filenames (deterministic given the chosen seed)\n",
        "\n",
        "split_1 = int(0.8 * len(filenames))\n",
        "split_2 = int(0.9 * len(filenames))\n",
        "train_filenames = filenames[:split_1]\n",
        "val_filenames = filenames[split_1:split_2]\n",
        "test_filenames = filenames[split_2:]\n"
      ],
      "metadata": {
        "id": "xj1hvRlxq-FJ"
      },
      "execution_count": null,
      "outputs": []
    },
    {
      "cell_type": "markdown",
      "source": [
        "copy image to folders"
      ],
      "metadata": {
        "id": "ryfUhaAkqxzI"
      }
    },
    {
      "cell_type": "code",
      "source": [
        "for i in train_filenames:\n",
        "  shutil.copy(i, '/content/drive/MyDrive/ISLES_folder/train')\n",
        "for i in val_filenames:\n",
        "  shutil.copy(i, '/content/drive/MyDrive/ISLES_folder/val')\n",
        "for i in test_filenames:\n",
        "  shutil.copy(i, '/content/drive/MyDrive/ISLES_folder/test')"
      ],
      "metadata": {
        "id": "fbSdDPAqMq6Z"
      },
      "execution_count": null,
      "outputs": []
    },
    {
      "cell_type": "markdown",
      "source": [
        "size of the dataset"
      ],
      "metadata": {
        "id": "nZRqLL01tFFS"
      }
    },
    {
      "cell_type": "code",
      "source": [
        "num_train_examples = len(os.listdir('/content/drive/MyDrive/ISLES_folder/train'))\n",
        "num_val_examples = len(os.listdir('/content/drive/MyDrive/ISLES_folder/val'))\n",
        "num_test_examples = len(os.listdir('/content/drive/MyDrive/ISLES_folder/test')) \n",
        "\n",
        "print(\"Number of training examples: {}\".format(num_train_examples))\n",
        "print(\"Number of validation examples: {}\".format(num_val_examples))\n",
        "print(\"Number of validation examples: {}\".format(num_test_examples))"
      ],
      "metadata": {
        "id": "7I2q3-y-Mq4I"
      },
      "execution_count": null,
      "outputs": []
    },
    {
      "cell_type": "code",
      "source": [],
      "metadata": {
        "id": "zT6Yu8lcMq1x"
      },
      "execution_count": null,
      "outputs": []
    },
    {
      "cell_type": "code",
      "source": [],
      "metadata": {
        "id": "TCAdM21DMqz4"
      },
      "execution_count": null,
      "outputs": []
    },
    {
      "cell_type": "code",
      "source": [],
      "metadata": {
        "id": "xMfg2sTrMqxj"
      },
      "execution_count": null,
      "outputs": []
    },
    {
      "cell_type": "code",
      "source": [],
      "metadata": {
        "id": "3fbUSLdWMqu8"
      },
      "execution_count": null,
      "outputs": []
    },
    {
      "cell_type": "code",
      "source": [],
      "metadata": {
        "id": "SU9x-L03Mqsr"
      },
      "execution_count": null,
      "outputs": []
    }
  ]
}
